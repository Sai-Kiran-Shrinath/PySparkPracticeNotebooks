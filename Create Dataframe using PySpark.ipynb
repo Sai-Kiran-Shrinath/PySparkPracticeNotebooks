{
 "cells": [
  {
   "cell_type": "markdown",
   "id": "7ee5849e",
   "metadata": {},
   "source": [
    "### Starting Spark Session"
   ]
  },
  {
   "cell_type": "code",
   "execution_count": 13,
   "id": "9d236d84",
   "metadata": {},
   "outputs": [],
   "source": [
    "import findspark\n",
    "findspark.init()"
   ]
  },
  {
   "cell_type": "code",
   "execution_count": 14,
   "id": "6756a2ab",
   "metadata": {},
   "outputs": [],
   "source": [
    "from pyspark.sql import SparkSession\n",
    "spark = SparkSession.builder.appName(\"MyApp\").getOrCreate()"
   ]
  },
  {
   "cell_type": "code",
   "execution_count": 15,
   "id": "40b0eed7",
   "metadata": {},
   "outputs": [
    {
     "data": {
      "text/plain": [
       "pyspark.sql.session.SparkSession"
      ]
     },
     "execution_count": 15,
     "metadata": {},
     "output_type": "execute_result"
    }
   ],
   "source": [
    "type(spark)"
   ]
  },
  {
   "cell_type": "code",
   "execution_count": 16,
   "id": "a2298ba6",
   "metadata": {},
   "outputs": [
    {
     "data": {
      "text/plain": [
       "['Builder',\n",
       " '__annotations__',\n",
       " '__class__',\n",
       " '__delattr__',\n",
       " '__dict__',\n",
       " '__dir__',\n",
       " '__doc__',\n",
       " '__enter__',\n",
       " '__eq__',\n",
       " '__exit__',\n",
       " '__format__',\n",
       " '__ge__',\n",
       " '__getattribute__',\n",
       " '__gt__',\n",
       " '__hash__',\n",
       " '__init__',\n",
       " '__init_subclass__',\n",
       " '__le__',\n",
       " '__lt__',\n",
       " '__module__',\n",
       " '__ne__',\n",
       " '__new__',\n",
       " '__reduce__',\n",
       " '__reduce_ex__',\n",
       " '__repr__',\n",
       " '__setattr__',\n",
       " '__sizeof__',\n",
       " '__str__',\n",
       " '__subclasshook__',\n",
       " '__weakref__',\n",
       " '_activeSession',\n",
       " '_convert_from_pandas',\n",
       " '_createFromLocal',\n",
       " '_createFromRDD',\n",
       " '_create_dataframe',\n",
       " '_create_from_pandas_with_arrow',\n",
       " '_create_shell_session',\n",
       " '_getActiveSessionOrCreate',\n",
       " '_get_numpy_record_dtype',\n",
       " '_inferSchema',\n",
       " '_inferSchemaFromList',\n",
       " '_instantiatedSession',\n",
       " '_jconf',\n",
       " '_jsc',\n",
       " '_jsparkSession',\n",
       " '_jvm',\n",
       " '_repr_html_',\n",
       " '_sc',\n",
       " 'builder',\n",
       " 'catalog',\n",
       " 'conf',\n",
       " 'createDataFrame',\n",
       " 'getActiveSession',\n",
       " 'newSession',\n",
       " 'range',\n",
       " 'read',\n",
       " 'readStream',\n",
       " 'sparkContext',\n",
       " 'sql',\n",
       " 'stop',\n",
       " 'streams',\n",
       " 'table',\n",
       " 'udf',\n",
       " 'version']"
      ]
     },
     "execution_count": 16,
     "metadata": {},
     "output_type": "execute_result"
    }
   ],
   "source": [
    "dir(spark)"
   ]
  },
  {
   "cell_type": "code",
   "execution_count": 17,
   "id": "e71a0191",
   "metadata": {},
   "outputs": [
    {
     "name": "stdout",
     "output_type": "stream",
     "text": [
      "Help on method createDataFrame in module pyspark.sql.session:\n",
      "\n",
      "createDataFrame(data: Union[pyspark.rdd.RDD[Any], Iterable[Any], ForwardRef('PandasDataFrameLike'), ForwardRef('ArrayLike')], schema: Union[pyspark.sql.types.AtomicType, pyspark.sql.types.StructType, str, NoneType] = None, samplingRatio: Optional[float] = None, verifySchema: bool = True) -> pyspark.sql.dataframe.DataFrame method of pyspark.sql.session.SparkSession instance\n",
      "    Creates a :class:`DataFrame` from an :class:`RDD`, a list, a :class:`pandas.DataFrame`\n",
      "    or a :class:`numpy.ndarray`.\n",
      "    \n",
      "    .. versionadded:: 2.0.0\n",
      "    \n",
      "    .. versionchanged:: 3.4.0\n",
      "        Supports Spark Connect.\n",
      "    \n",
      "    Parameters\n",
      "    ----------\n",
      "    data : :class:`RDD` or iterable\n",
      "        an RDD of any kind of SQL data representation (:class:`Row`,\n",
      "        :class:`tuple`, ``int``, ``boolean``, etc.), or :class:`list`,\n",
      "        :class:`pandas.DataFrame` or :class:`numpy.ndarray`.\n",
      "    schema : :class:`pyspark.sql.types.DataType`, str or list, optional\n",
      "        a :class:`pyspark.sql.types.DataType` or a datatype string or a list of\n",
      "        column names, default is None.  The data type string format equals to\n",
      "        :class:`pyspark.sql.types.DataType.simpleString`, except that top level struct type can\n",
      "        omit the ``struct<>``.\n",
      "    \n",
      "        When ``schema`` is a list of column names, the type of each column\n",
      "        will be inferred from ``data``.\n",
      "    \n",
      "        When ``schema`` is ``None``, it will try to infer the schema (column names and types)\n",
      "        from ``data``, which should be an RDD of either :class:`Row`,\n",
      "        :class:`namedtuple`, or :class:`dict`.\n",
      "    \n",
      "        When ``schema`` is :class:`pyspark.sql.types.DataType` or a datatype string, it must\n",
      "        match the real data, or an exception will be thrown at runtime. If the given schema is\n",
      "        not :class:`pyspark.sql.types.StructType`, it will be wrapped into a\n",
      "        :class:`pyspark.sql.types.StructType` as its only field, and the field name will be\n",
      "        \"value\". Each record will also be wrapped into a tuple, which can be converted to row\n",
      "        later.\n",
      "    samplingRatio : float, optional\n",
      "        the sample ratio of rows used for inferring. The first few rows will be used\n",
      "        if ``samplingRatio`` is ``None``.\n",
      "    verifySchema : bool, optional\n",
      "        verify data types of every row against schema. Enabled by default.\n",
      "    \n",
      "        .. versionadded:: 2.1.0\n",
      "    \n",
      "    Returns\n",
      "    -------\n",
      "    :class:`DataFrame`\n",
      "    \n",
      "    Notes\n",
      "    -----\n",
      "    Usage with `spark.sql.execution.arrow.pyspark.enabled=True` is experimental.\n",
      "    \n",
      "    Examples\n",
      "    --------\n",
      "    Create a DataFrame from a list of tuples.\n",
      "    \n",
      "    >>> spark.createDataFrame([('Alice', 1)]).collect()\n",
      "    [Row(_1='Alice', _2=1)]\n",
      "    >>> spark.createDataFrame([('Alice', 1)], ['name', 'age']).collect()\n",
      "    [Row(name='Alice', age=1)]\n",
      "    \n",
      "    Create a DataFrame from a list of dictionaries\n",
      "    \n",
      "    >>> d = [{'name': 'Alice', 'age': 1}]\n",
      "    >>> spark.createDataFrame(d).collect()\n",
      "    [Row(age=1, name='Alice')]\n",
      "    \n",
      "    Create a DataFrame from an RDD.\n",
      "    \n",
      "    >>> rdd = spark.sparkContext.parallelize([('Alice', 1)])\n",
      "    >>> spark.createDataFrame(rdd).collect()\n",
      "    [Row(_1='Alice', _2=1)]\n",
      "    >>> df = spark.createDataFrame(rdd, ['name', 'age'])\n",
      "    >>> df.collect()\n",
      "    [Row(name='Alice', age=1)]\n",
      "    \n",
      "    Create a DataFrame from Row instances.\n",
      "    \n",
      "    >>> from pyspark.sql import Row\n",
      "    >>> Person = Row('name', 'age')\n",
      "    >>> person = rdd.map(lambda r: Person(*r))\n",
      "    >>> df2 = spark.createDataFrame(person)\n",
      "    >>> df2.collect()\n",
      "    [Row(name='Alice', age=1)]\n",
      "    \n",
      "    Create a DataFrame with the explicit schema specified.\n",
      "    \n",
      "    >>> from pyspark.sql.types import *\n",
      "    >>> schema = StructType([\n",
      "    ...    StructField(\"name\", StringType(), True),\n",
      "    ...    StructField(\"age\", IntegerType(), True)])\n",
      "    >>> df3 = spark.createDataFrame(rdd, schema)\n",
      "    >>> df3.collect()\n",
      "    [Row(name='Alice', age=1)]\n",
      "    \n",
      "    Create a DataFrame from a pandas DataFrame.\n",
      "    \n",
      "    >>> spark.createDataFrame(df.toPandas()).collect()  # doctest: +SKIP\n",
      "    [Row(name='Alice', age=1)]\n",
      "    >>> spark.createDataFrame(pandas.DataFrame([[1, 2]])).collect()  # doctest: +SKIP\n",
      "    [Row(0=1, 1=2)]\n",
      "    \n",
      "    Create  a DataFrame from an RDD with the schema in DDL formatted string.\n",
      "    \n",
      "    >>> spark.createDataFrame(rdd, \"a: string, b: int\").collect()\n",
      "    [Row(a='Alice', b=1)]\n",
      "    >>> rdd = rdd.map(lambda row: row[1])\n",
      "    >>> spark.createDataFrame(rdd, \"int\").collect()\n",
      "    [Row(value=1)]\n",
      "    \n",
      "    When the type is unmatched, it throws an exception.\n",
      "    \n",
      "    >>> spark.createDataFrame(rdd, \"boolean\").collect() # doctest: +IGNORE_EXCEPTION_DETAIL\n",
      "    Traceback (most recent call last):\n",
      "        ...\n",
      "    Py4JJavaError: ...\n",
      "\n"
     ]
    }
   ],
   "source": [
    "help(spark.createDataFrame)"
   ]
  },
  {
   "cell_type": "markdown",
   "id": "eb4a1640",
   "metadata": {},
   "source": [
    "### Creating Spark DataFrame using list"
   ]
  },
  {
   "cell_type": "code",
   "execution_count": 18,
   "id": "d10d968b",
   "metadata": {},
   "outputs": [],
   "source": [
    "data = [(1, \"sk\"), (2, \"messi\"), (3, \"virat\")]"
   ]
  },
  {
   "cell_type": "code",
   "execution_count": 22,
   "id": "a1421454",
   "metadata": {},
   "outputs": [],
   "source": [
    "df = spark.createDataFrame(data, [\"Id\", \"Name\"])"
   ]
  },
  {
   "cell_type": "code",
   "execution_count": 23,
   "id": "d142db9d",
   "metadata": {},
   "outputs": [
    {
     "name": "stdout",
     "output_type": "stream",
     "text": [
      "+---+-----+\n",
      "| Id| Name|\n",
      "+---+-----+\n",
      "|  1|   sk|\n",
      "|  2|messi|\n",
      "|  3|virat|\n",
      "+---+-----+\n",
      "\n"
     ]
    }
   ],
   "source": [
    "df.show()"
   ]
  },
  {
   "cell_type": "code",
   "execution_count": 24,
   "id": "42e3ffc8",
   "metadata": {},
   "outputs": [
    {
     "name": "stdout",
     "output_type": "stream",
     "text": [
      "root\n",
      " |-- Id: long (nullable = true)\n",
      " |-- Name: string (nullable = true)\n",
      "\n"
     ]
    }
   ],
   "source": [
    "df.printSchema()"
   ]
  },
  {
   "cell_type": "markdown",
   "id": "385aa018",
   "metadata": {},
   "source": [
    "### Importing types to create schema"
   ]
  },
  {
   "cell_type": "code",
   "execution_count": 26,
   "id": "bae86dcd",
   "metadata": {},
   "outputs": [],
   "source": [
    "from pyspark.sql.types import *"
   ]
  },
  {
   "cell_type": "code",
   "execution_count": 27,
   "id": "f3f90a06",
   "metadata": {},
   "outputs": [
    {
     "data": {
      "text/plain": [
       "pyspark.sql.column.Column"
      ]
     },
     "execution_count": 27,
     "metadata": {},
     "output_type": "execute_result"
    }
   ],
   "source": [
    "type(df['id'])"
   ]
  },
  {
   "cell_type": "code",
   "execution_count": 28,
   "id": "22e2ac58",
   "metadata": {},
   "outputs": [
    {
     "data": {
      "text/plain": [
       "pyspark.sql.dataframe.DataFrame"
      ]
     },
     "execution_count": 28,
     "metadata": {},
     "output_type": "execute_result"
    }
   ],
   "source": [
    "type(df)"
   ]
  },
  {
   "cell_type": "code",
   "execution_count": 29,
   "id": "e4756be7",
   "metadata": {},
   "outputs": [],
   "source": [
    "data2 = [(1, 'sk'), (2, 'srk')]"
   ]
  },
  {
   "cell_type": "markdown",
   "id": "3b5a3ba5",
   "metadata": {},
   "source": [
    "### Creating Schema using StructType and StructField"
   ]
  },
  {
   "cell_type": "code",
   "execution_count": 31,
   "id": "09bbe6be",
   "metadata": {},
   "outputs": [],
   "source": [
    "schema = StructType([StructField(name = 'id', dataType = IntegerType()), StructField(name = 'name', dataType = StringType())])"
   ]
  },
  {
   "cell_type": "code",
   "execution_count": 32,
   "id": "b574b436",
   "metadata": {},
   "outputs": [
    {
     "data": {
      "text/plain": [
       "pyspark.sql.types.StructType"
      ]
     },
     "execution_count": 32,
     "metadata": {},
     "output_type": "execute_result"
    }
   ],
   "source": [
    "type(schema)"
   ]
  },
  {
   "cell_type": "code",
   "execution_count": 36,
   "id": "1cf47f81",
   "metadata": {},
   "outputs": [],
   "source": [
    "df2 = spark.createDataFrame(data2, schema)"
   ]
  },
  {
   "cell_type": "code",
   "execution_count": 34,
   "id": "45f20ae0",
   "metadata": {},
   "outputs": [
    {
     "name": "stdout",
     "output_type": "stream",
     "text": [
      "Help on class StructType in module pyspark.sql.types:\n",
      "\n",
      "class StructType(DataType)\n",
      " |  StructType(fields: Optional[List[pyspark.sql.types.StructField]] = None)\n",
      " |  \n",
      " |  Struct type, consisting of a list of :class:`StructField`.\n",
      " |  \n",
      " |  This is the data type representing a :class:`Row`.\n",
      " |  \n",
      " |  Iterating a :class:`StructType` will iterate over its :class:`StructField`\\s.\n",
      " |  A contained :class:`StructField` can be accessed by its name or position.\n",
      " |  \n",
      " |  Examples\n",
      " |  --------\n",
      " |  >>> from pyspark.sql.types import *\n",
      " |  >>> struct1 = StructType([StructField(\"f1\", StringType(), True)])\n",
      " |  >>> struct1[\"f1\"]\n",
      " |  StructField('f1', StringType(), True)\n",
      " |  >>> struct1[0]\n",
      " |  StructField('f1', StringType(), True)\n",
      " |  \n",
      " |  >>> struct1 = StructType([StructField(\"f1\", StringType(), True)])\n",
      " |  >>> struct2 = StructType([StructField(\"f1\", StringType(), True)])\n",
      " |  >>> struct1 == struct2\n",
      " |  True\n",
      " |  >>> struct1 = StructType([StructField(\"f1\", CharType(10), True)])\n",
      " |  >>> struct2 = StructType([StructField(\"f1\", CharType(10), True)])\n",
      " |  >>> struct1 == struct2\n",
      " |  True\n",
      " |  >>> struct1 = StructType([StructField(\"f1\", VarcharType(10), True)])\n",
      " |  >>> struct2 = StructType([StructField(\"f1\", VarcharType(10), True)])\n",
      " |  >>> struct1 == struct2\n",
      " |  True\n",
      " |  >>> struct1 = StructType([StructField(\"f1\", StringType(), True)])\n",
      " |  >>> struct2 = StructType([StructField(\"f1\", StringType(), True),\n",
      " |  ...     StructField(\"f2\", IntegerType(), False)])\n",
      " |  >>> struct1 == struct2\n",
      " |  False\n",
      " |  \n",
      " |  The below example demonstrates how to create a DataFrame based on a struct created\n",
      " |  using class:`StructType` and class:`StructField`:\n",
      " |  \n",
      " |  >>> data = [(\"Alice\", [\"Java\", \"Scala\"]), (\"Bob\", [\"Python\", \"Scala\"])]\n",
      " |  >>> schema = StructType([\n",
      " |  ...     StructField(\"name\", StringType()),\n",
      " |  ...     StructField(\"languagesSkills\", ArrayType(StringType())),\n",
      " |  ... ])\n",
      " |  >>> df = spark.createDataFrame(data=data, schema=schema)\n",
      " |  >>> df.printSchema()\n",
      " |  root\n",
      " |   |-- name: string (nullable = true)\n",
      " |   |-- languagesSkills: array (nullable = true)\n",
      " |   |    |-- element: string (containsNull = true)\n",
      " |  >>> df.show()\n",
      " |  +-----+---------------+\n",
      " |  | name|languagesSkills|\n",
      " |  +-----+---------------+\n",
      " |  |Alice|  [Java, Scala]|\n",
      " |  |  Bob|[Python, Scala]|\n",
      " |  +-----+---------------+\n",
      " |  \n",
      " |  Method resolution order:\n",
      " |      StructType\n",
      " |      DataType\n",
      " |      builtins.object\n",
      " |  \n",
      " |  Methods defined here:\n",
      " |  \n",
      " |  __getitem__(self, key: Union[str, int]) -> pyspark.sql.types.StructField\n",
      " |      Access fields by name or slice.\n",
      " |  \n",
      " |  __init__(self, fields: Optional[List[pyspark.sql.types.StructField]] = None)\n",
      " |      Initialize self.  See help(type(self)) for accurate signature.\n",
      " |  \n",
      " |  __iter__(self) -> Iterator[pyspark.sql.types.StructField]\n",
      " |      Iterate the fields\n",
      " |  \n",
      " |  __len__(self) -> int\n",
      " |      Return the number of fields.\n",
      " |  \n",
      " |  __repr__(self) -> str\n",
      " |      Return repr(self).\n",
      " |  \n",
      " |  add(self, field: Union[str, pyspark.sql.types.StructField], data_type: Union[str, pyspark.sql.types.DataType, NoneType] = None, nullable: bool = True, metadata: Optional[Dict[str, Any]] = None) -> 'StructType'\n",
      " |      Construct a :class:`StructType` by adding new elements to it, to define the schema.\n",
      " |      The method accepts either:\n",
      " |      \n",
      " |          a) A single parameter which is a :class:`StructField` object.\n",
      " |          b) Between 2 and 4 parameters as (name, data_type, nullable (optional),\n",
      " |             metadata(optional). The data_type parameter may be either a String or a\n",
      " |             :class:`DataType` object.\n",
      " |      \n",
      " |      Parameters\n",
      " |      ----------\n",
      " |      field : str or :class:`StructField`\n",
      " |          Either the name of the field or a :class:`StructField` object\n",
      " |      data_type : :class:`DataType`, optional\n",
      " |          If present, the DataType of the :class:`StructField` to create\n",
      " |      nullable : bool, optional\n",
      " |          Whether the field to add should be nullable (default True)\n",
      " |      metadata : dict, optional\n",
      " |          Any additional metadata (default None)\n",
      " |      \n",
      " |      Returns\n",
      " |      -------\n",
      " |      :class:`StructType`\n",
      " |      \n",
      " |      Examples\n",
      " |      --------\n",
      " |      >>> from pyspark.sql.types import IntegerType, StringType, StructField, StructType\n",
      " |      >>> struct1 = StructType().add(\"f1\", StringType(), True).add(\"f2\", StringType(), True, None)\n",
      " |      >>> struct2 = StructType([StructField(\"f1\", StringType(), True),\n",
      " |      ...     StructField(\"f2\", StringType(), True, None)])\n",
      " |      >>> struct1 == struct2\n",
      " |      True\n",
      " |      >>> struct1 = StructType().add(StructField(\"f1\", StringType(), True))\n",
      " |      >>> struct2 = StructType([StructField(\"f1\", StringType(), True)])\n",
      " |      >>> struct1 == struct2\n",
      " |      True\n",
      " |      >>> struct1 = StructType().add(\"f1\", \"string\", True)\n",
      " |      >>> struct2 = StructType([StructField(\"f1\", StringType(), True)])\n",
      " |      >>> struct1 == struct2\n",
      " |      True\n",
      " |  \n",
      " |  fieldNames(self) -> List[str]\n",
      " |      Returns all field names in a list.\n",
      " |      \n",
      " |      Examples\n",
      " |      --------\n",
      " |      >>> from pyspark.sql.types import StringType, StructField, StructType\n",
      " |      >>> struct = StructType([StructField(\"f1\", StringType(), True)])\n",
      " |      >>> struct.fieldNames()\n",
      " |      ['f1']\n",
      " |  \n",
      " |  fromInternal(self, obj: Tuple) -> 'Row'\n",
      " |      Converts an internal SQL object into a native Python object.\n",
      " |  \n",
      " |  jsonValue(self) -> Dict[str, Any]\n",
      " |  \n",
      " |  needConversion(self) -> bool\n",
      " |      Does this type needs conversion between Python object and internal SQL object.\n",
      " |      \n",
      " |      This is used to avoid the unnecessary conversion for ArrayType/MapType/StructType.\n",
      " |  \n",
      " |  simpleString(self) -> str\n",
      " |  \n",
      " |  toInternal(self, obj: Tuple) -> Tuple\n",
      " |      Converts a Python object into an internal SQL object.\n",
      " |  \n",
      " |  ----------------------------------------------------------------------\n",
      " |  Class methods defined here:\n",
      " |  \n",
      " |  fromJson(json: Dict[str, Any]) -> 'StructType' from builtins.type\n",
      " |      Constructs :class:`StructType` from a schema defined in JSON format.\n",
      " |      \n",
      " |      Below is a JSON schema it must adhere to::\n",
      " |      \n",
      " |          {\n",
      " |            \"title\":\"StructType\",\n",
      " |            \"description\":\"Schema of StructType in json format\",\n",
      " |            \"type\":\"object\",\n",
      " |            \"properties\":{\n",
      " |               \"fields\":{\n",
      " |                  \"description\":\"Array of struct fields\",\n",
      " |                  \"type\":\"array\",\n",
      " |                  \"items\":{\n",
      " |                      \"type\":\"object\",\n",
      " |                      \"properties\":{\n",
      " |                         \"name\":{\n",
      " |                            \"description\":\"Name of the field\",\n",
      " |                            \"type\":\"string\"\n",
      " |                         },\n",
      " |                         \"type\":{\n",
      " |                            \"description\": \"Type of the field. Can either be\n",
      " |                                            another nested StructType or primitive type\",\n",
      " |                            \"type\":\"object/string\"\n",
      " |                         },\n",
      " |                         \"nullable\":{\n",
      " |                            \"description\":\"If nulls are allowed\",\n",
      " |                            \"type\":\"boolean\"\n",
      " |                         },\n",
      " |                         \"metadata\":{\n",
      " |                            \"description\":\"Additional metadata to supply\",\n",
      " |                            \"type\":\"object\"\n",
      " |                         },\n",
      " |                         \"required\":[\n",
      " |                            \"name\",\n",
      " |                            \"type\",\n",
      " |                            \"nullable\",\n",
      " |                            \"metadata\"\n",
      " |                         ]\n",
      " |                      }\n",
      " |                 }\n",
      " |              }\n",
      " |           }\n",
      " |         }\n",
      " |      \n",
      " |      Parameters\n",
      " |      ----------\n",
      " |      json : dict or a dict-like object e.g. JSON object\n",
      " |          This \"dict\" must have \"fields\" key that returns an array of fields\n",
      " |          each of which must have specific keys (name, type, nullable, metadata).\n",
      " |      \n",
      " |      Returns\n",
      " |      -------\n",
      " |      :class:`StructType`\n",
      " |      \n",
      " |      Examples\n",
      " |      --------\n",
      " |      >>> json_str = '''\n",
      " |      ...  {\n",
      " |      ...      \"fields\": [\n",
      " |      ...          {\n",
      " |      ...              \"metadata\": {},\n",
      " |      ...              \"name\": \"Person\",\n",
      " |      ...              \"nullable\": true,\n",
      " |      ...              \"type\": {\n",
      " |      ...                  \"fields\": [\n",
      " |      ...                      {\n",
      " |      ...                          \"metadata\": {},\n",
      " |      ...                          \"name\": \"name\",\n",
      " |      ...                          \"nullable\": false,\n",
      " |      ...                          \"type\": \"string\"\n",
      " |      ...                      },\n",
      " |      ...                      {\n",
      " |      ...                          \"metadata\": {},\n",
      " |      ...                          \"name\": \"surname\",\n",
      " |      ...                          \"nullable\": false,\n",
      " |      ...                          \"type\": \"string\"\n",
      " |      ...                      }\n",
      " |      ...                  ],\n",
      " |      ...                  \"type\": \"struct\"\n",
      " |      ...              }\n",
      " |      ...          }\n",
      " |      ...      ],\n",
      " |      ...      \"type\": \"struct\"\n",
      " |      ...  }\n",
      " |      ...  '''\n",
      " |      >>> import json\n",
      " |      >>> scheme = StructType.fromJson(json.loads(json_str))\n",
      " |      >>> scheme.simpleString()\n",
      " |      'struct<Person:struct<name:string,surname:string>>'\n",
      " |  \n",
      " |  ----------------------------------------------------------------------\n",
      " |  Methods inherited from DataType:\n",
      " |  \n",
      " |  __eq__(self, other: Any) -> bool\n",
      " |      Return self==value.\n",
      " |  \n",
      " |  __hash__(self) -> int\n",
      " |      Return hash(self).\n",
      " |  \n",
      " |  __ne__(self, other: Any) -> bool\n",
      " |      Return self!=value.\n",
      " |  \n",
      " |  json(self) -> str\n",
      " |  \n",
      " |  ----------------------------------------------------------------------\n",
      " |  Class methods inherited from DataType:\n",
      " |  \n",
      " |  typeName() -> str from builtins.type\n",
      " |  \n",
      " |  ----------------------------------------------------------------------\n",
      " |  Data descriptors inherited from DataType:\n",
      " |  \n",
      " |  __dict__\n",
      " |      dictionary for instance variables (if defined)\n",
      " |  \n",
      " |  __weakref__\n",
      " |      list of weak references to the object (if defined)\n",
      "\n"
     ]
    }
   ],
   "source": [
    "help(StructType)"
   ]
  },
  {
   "cell_type": "code",
   "execution_count": 35,
   "id": "b12a274b",
   "metadata": {},
   "outputs": [
    {
     "name": "stdout",
     "output_type": "stream",
     "text": [
      "Help on class StructField in module pyspark.sql.types:\n",
      "\n",
      "class StructField(DataType)\n",
      " |  StructField(name: str, dataType: pyspark.sql.types.DataType, nullable: bool = True, metadata: Optional[Dict[str, Any]] = None)\n",
      " |  \n",
      " |  A field in :class:`StructType`.\n",
      " |  \n",
      " |  Parameters\n",
      " |  ----------\n",
      " |  name : str\n",
      " |      name of the field.\n",
      " |  dataType : :class:`DataType`\n",
      " |      :class:`DataType` of the field.\n",
      " |  nullable : bool, optional\n",
      " |      whether the field can be null (None) or not.\n",
      " |  metadata : dict, optional\n",
      " |      a dict from string to simple type that can be toInternald to JSON automatically\n",
      " |  \n",
      " |  Examples\n",
      " |  --------\n",
      " |  >>> from pyspark.sql.types import StringType, StructField\n",
      " |  >>> (StructField(\"f1\", StringType(), True)\n",
      " |  ...      == StructField(\"f1\", StringType(), True))\n",
      " |  True\n",
      " |  >>> (StructField(\"f1\", StringType(), True)\n",
      " |  ...      == StructField(\"f2\", StringType(), True))\n",
      " |  False\n",
      " |  \n",
      " |  Method resolution order:\n",
      " |      StructField\n",
      " |      DataType\n",
      " |      builtins.object\n",
      " |  \n",
      " |  Methods defined here:\n",
      " |  \n",
      " |  __init__(self, name: str, dataType: pyspark.sql.types.DataType, nullable: bool = True, metadata: Optional[Dict[str, Any]] = None)\n",
      " |      Initialize self.  See help(type(self)) for accurate signature.\n",
      " |  \n",
      " |  __repr__(self) -> str\n",
      " |      Return repr(self).\n",
      " |  \n",
      " |  fromInternal(self, obj: ~T) -> ~T\n",
      " |      Converts an internal SQL object into a native Python object.\n",
      " |  \n",
      " |  jsonValue(self) -> Dict[str, Any]\n",
      " |  \n",
      " |  needConversion(self) -> bool\n",
      " |      Does this type needs conversion between Python object and internal SQL object.\n",
      " |      \n",
      " |      This is used to avoid the unnecessary conversion for ArrayType/MapType/StructType.\n",
      " |  \n",
      " |  simpleString(self) -> str\n",
      " |  \n",
      " |  toInternal(self, obj: ~T) -> ~T\n",
      " |      Converts a Python object into an internal SQL object.\n",
      " |  \n",
      " |  typeName(self) -> str\n",
      " |  \n",
      " |  ----------------------------------------------------------------------\n",
      " |  Class methods defined here:\n",
      " |  \n",
      " |  fromJson(json: Dict[str, Any]) -> 'StructField' from builtins.type\n",
      " |  \n",
      " |  ----------------------------------------------------------------------\n",
      " |  Methods inherited from DataType:\n",
      " |  \n",
      " |  __eq__(self, other: Any) -> bool\n",
      " |      Return self==value.\n",
      " |  \n",
      " |  __hash__(self) -> int\n",
      " |      Return hash(self).\n",
      " |  \n",
      " |  __ne__(self, other: Any) -> bool\n",
      " |      Return self!=value.\n",
      " |  \n",
      " |  json(self) -> str\n",
      " |  \n",
      " |  ----------------------------------------------------------------------\n",
      " |  Data descriptors inherited from DataType:\n",
      " |  \n",
      " |  __dict__\n",
      " |      dictionary for instance variables (if defined)\n",
      " |  \n",
      " |  __weakref__\n",
      " |      list of weak references to the object (if defined)\n",
      "\n"
     ]
    }
   ],
   "source": [
    "help(StructField)"
   ]
  },
  {
   "cell_type": "code",
   "execution_count": 37,
   "id": "70700c5d",
   "metadata": {},
   "outputs": [
    {
     "name": "stdout",
     "output_type": "stream",
     "text": [
      "+---+----+\n",
      "| id|name|\n",
      "+---+----+\n",
      "|  1|  sk|\n",
      "|  2| srk|\n",
      "+---+----+\n",
      "\n"
     ]
    }
   ],
   "source": [
    "df2.show()"
   ]
  },
  {
   "cell_type": "code",
   "execution_count": 38,
   "id": "ebd7542b",
   "metadata": {},
   "outputs": [
    {
     "name": "stdout",
     "output_type": "stream",
     "text": [
      "root\n",
      " |-- id: integer (nullable = true)\n",
      " |-- name: string (nullable = true)\n",
      "\n"
     ]
    }
   ],
   "source": [
    "df2.printSchema()"
   ]
  },
  {
   "cell_type": "markdown",
   "id": "d0353314",
   "metadata": {},
   "source": [
    "### Creating Spark DataFrame using Dictionary"
   ]
  },
  {
   "cell_type": "code",
   "execution_count": 39,
   "id": "f8571d97",
   "metadata": {},
   "outputs": [],
   "source": [
    "data3 = [{'id': 1, 'name': 'sk'}, {'id': 2, 'name': 'srk'}]"
   ]
  },
  {
   "cell_type": "code",
   "execution_count": 40,
   "id": "76ce4dcb",
   "metadata": {},
   "outputs": [],
   "source": [
    "df3 = spark.createDataFrame(data3)"
   ]
  },
  {
   "cell_type": "code",
   "execution_count": 41,
   "id": "16d3f359",
   "metadata": {},
   "outputs": [
    {
     "name": "stdout",
     "output_type": "stream",
     "text": [
      "+---+----+\n",
      "| id|name|\n",
      "+---+----+\n",
      "|  1|  sk|\n",
      "|  2| srk|\n",
      "+---+----+\n",
      "\n"
     ]
    }
   ],
   "source": [
    "df3.show()"
   ]
  },
  {
   "cell_type": "code",
   "execution_count": 42,
   "id": "9a1964f3",
   "metadata": {},
   "outputs": [
    {
     "name": "stdout",
     "output_type": "stream",
     "text": [
      "root\n",
      " |-- id: long (nullable = true)\n",
      " |-- name: string (nullable = true)\n",
      "\n"
     ]
    }
   ],
   "source": [
    "df3.printSchema()"
   ]
  }
 ],
 "metadata": {
  "kernelspec": {
   "display_name": "Python 3 (ipykernel)",
   "language": "python",
   "name": "python3"
  },
  "language_info": {
   "codemirror_mode": {
    "name": "ipython",
    "version": 3
   },
   "file_extension": ".py",
   "mimetype": "text/x-python",
   "name": "python",
   "nbconvert_exporter": "python",
   "pygments_lexer": "ipython3",
   "version": "3.10.6"
  }
 },
 "nbformat": 4,
 "nbformat_minor": 5
}
