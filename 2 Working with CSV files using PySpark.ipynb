{
 "cells": [
  {
   "cell_type": "markdown",
   "id": "503a321f",
   "metadata": {},
   "source": [
    "### Setting up Spark Session"
   ]
  },
  {
   "cell_type": "code",
   "execution_count": 2,
   "id": "5284728a",
   "metadata": {},
   "outputs": [],
   "source": [
    "import findspark\n",
    "findspark.init()"
   ]
  },
  {
   "cell_type": "code",
   "execution_count": 4,
   "id": "c3928eda",
   "metadata": {},
   "outputs": [],
   "source": [
    "from pyspark.sql import SparkSession\n",
    "spark = SparkSession.builder.appName(\"MyApp\").getOrCreate()"
   ]
  },
  {
   "cell_type": "markdown",
   "id": "72913273",
   "metadata": {},
   "source": [
    "### Read csv file"
   ]
  },
  {
   "cell_type": "code",
   "execution_count": 16,
   "id": "e2b0a735",
   "metadata": {},
   "outputs": [],
   "source": [
    "emp1_df = spark.read.csv(path = r\"D:\\PySpark\\csv files\\employee1.csv\", header = True, inferSchema = True)"
   ]
  },
  {
   "cell_type": "code",
   "execution_count": 17,
   "id": "24306bc0",
   "metadata": {},
   "outputs": [
    {
     "data": {
      "text/plain": [
       "DataFrame[Age: int, BusinessTravel: string, DailyRate: int, Department: string, DistanceFromHome: int, Education: int, EducationField: string, EmployeeCount: int, EmployeeNumber: int, EnvironmentSatisfaction: int, Gender: string, HourlyRate: int, JobInvolvement: int, JobLevel: int, JobRole: string, JobSatisfaction: int, MaritalStatus: string, MonthlyIncome: int, MonthlyRate: int, NumCompaniesWorked: int, Over18: string, OverTime: string, PercentSalaryHike: int, PerformanceRating: int, RelationshipSatisfaction: int, StandardHours: int, StockOptionLevel: int, TotalWorkingYears: int, TrainingTimesLastYear: int, WorkLifeBalance: int, YearsAtCompany: int, YearsInCurrentRole: int, YearsSinceLastPromotion: int, YearsWithCurrManager: int]"
      ]
     },
     "metadata": {},
     "output_type": "display_data"
    }
   ],
   "source": [
    "display(emp1_df)"
   ]
  },
  {
   "cell_type": "code",
   "execution_count": 18,
   "id": "3fe8efc4",
   "metadata": {},
   "outputs": [
    {
     "name": "stdout",
     "output_type": "stream",
     "text": [
      "root\n",
      " |-- Age: integer (nullable = true)\n",
      " |-- BusinessTravel: string (nullable = true)\n",
      " |-- DailyRate: integer (nullable = true)\n",
      " |-- Department: string (nullable = true)\n",
      " |-- DistanceFromHome: integer (nullable = true)\n",
      " |-- Education: integer (nullable = true)\n",
      " |-- EducationField: string (nullable = true)\n",
      " |-- EmployeeCount: integer (nullable = true)\n",
      " |-- EmployeeNumber: integer (nullable = true)\n",
      " |-- EnvironmentSatisfaction: integer (nullable = true)\n",
      " |-- Gender: string (nullable = true)\n",
      " |-- HourlyRate: integer (nullable = true)\n",
      " |-- JobInvolvement: integer (nullable = true)\n",
      " |-- JobLevel: integer (nullable = true)\n",
      " |-- JobRole: string (nullable = true)\n",
      " |-- JobSatisfaction: integer (nullable = true)\n",
      " |-- MaritalStatus: string (nullable = true)\n",
      " |-- MonthlyIncome: integer (nullable = true)\n",
      " |-- MonthlyRate: integer (nullable = true)\n",
      " |-- NumCompaniesWorked: integer (nullable = true)\n",
      " |-- Over18: string (nullable = true)\n",
      " |-- OverTime: string (nullable = true)\n",
      " |-- PercentSalaryHike: integer (nullable = true)\n",
      " |-- PerformanceRating: integer (nullable = true)\n",
      " |-- RelationshipSatisfaction: integer (nullable = true)\n",
      " |-- StandardHours: integer (nullable = true)\n",
      " |-- StockOptionLevel: integer (nullable = true)\n",
      " |-- TotalWorkingYears: integer (nullable = true)\n",
      " |-- TrainingTimesLastYear: integer (nullable = true)\n",
      " |-- WorkLifeBalance: integer (nullable = true)\n",
      " |-- YearsAtCompany: integer (nullable = true)\n",
      " |-- YearsInCurrentRole: integer (nullable = true)\n",
      " |-- YearsSinceLastPromotion: integer (nullable = true)\n",
      " |-- YearsWithCurrManager: integer (nullable = true)\n",
      "\n"
     ]
    }
   ],
   "source": [
    "emp1_df.printSchema()"
   ]
  },
  {
   "cell_type": "code",
   "execution_count": 8,
   "id": "074db449",
   "metadata": {},
   "outputs": [
    {
     "name": "stdout",
     "output_type": "stream",
     "text": [
      "+---+-----------------+---------+--------------------+----------------+---------+----------------+-------------+--------------+-----------------------+------+----------+--------------+--------+--------------------+---------------+-------------+-------------+-----------+------------------+------+--------+-----------------+-----------------+------------------------+-------------+----------------+-----------------+---------------------+---------------+--------------+------------------+-----------------------+--------------------+\n",
      "|Age|   BusinessTravel|DailyRate|          Department|DistanceFromHome|Education|  EducationField|EmployeeCount|EmployeeNumber|EnvironmentSatisfaction|Gender|HourlyRate|JobInvolvement|JobLevel|             JobRole|JobSatisfaction|MaritalStatus|MonthlyIncome|MonthlyRate|NumCompaniesWorked|Over18|OverTime|PercentSalaryHike|PerformanceRating|RelationshipSatisfaction|StandardHours|StockOptionLevel|TotalWorkingYears|TrainingTimesLastYear|WorkLifeBalance|YearsAtCompany|YearsInCurrentRole|YearsSinceLastPromotion|YearsWithCurrManager|\n",
      "+---+-----------------+---------+--------------------+----------------+---------+----------------+-------------+--------------+-----------------------+------+----------+--------------+--------+--------------------+---------------+-------------+-------------+-----------+------------------+------+--------+-----------------+-----------------+------------------------+-------------+----------------+-----------------+---------------------+---------------+--------------+------------------+-----------------------+--------------------+\n",
      "| 34|    Travel_Rarely|      790|               Sales|              24|        4|         Medical|            1|          1489|                      1|Female|        40|             2|       2|     Sales Executive|              2|       Single|         4599|       7815|                 0|     Y|     Yes|               23|                4|                       3|           80|               0|               16|                    2|              4|            15|                 9|                     10|                  10|\n",
      "| 35|    Travel_Rarely|      660|               Sales|               7|        1|   Life Sciences|            1|          1492|                      4|  Male|        76|             3|       1|Sales Representative|              3|      Married|         2404|      16192|                 1|     Y|      No|               13|                3|                       1|           80|               1|                1|                    3|              3|             1|                 0|                      0|                   0|\n",
      "| 24|Travel_Frequently|      381|Research & Develo...|               9|        3|         Medical|            1|          1494|                      2|  Male|        89|             3|       1|Laboratory Techni...|              1|       Single|         3172|      16998|                 2|     Y|     Yes|               11|                3|                       3|           80|               0|                4|                    2|              2|             0|                 0|                      0|                   0|\n",
      "| 24|       Non-Travel|      830|               Sales|              13|        2|   Life Sciences|            1|          1495|                      4|Female|        78|             3|       1|Sales Representative|              2|      Married|         2033|       7103|                 1|     Y|      No|               13|                3|                       3|           80|               1|                1|                    2|              3|             1|                 0|                      0|                   0|\n",
      "| 44|Travel_Frequently|     1193|Research & Develo...|               2|        1|         Medical|            1|          1496|                      2|  Male|        86|             3|       3|Manufacturing Dir...|              3|       Single|        10209|      19719|                 5|     Y|     Yes|               18|                3|                       2|           80|               0|               16|                    2|              2|             2|                 2|                      2|                   2|\n",
      "| 29|    Travel_Rarely|     1246|               Sales|              19|        3|   Life Sciences|            1|          1497|                      3|  Male|        77|             2|       2|     Sales Executive|              3|     Divorced|         8620|      23757|                 1|     Y|      No|               14|                3|                       3|           80|               2|               10|                    3|              3|            10|                 7|                      0|                   4|\n",
      "| 30|    Travel_Rarely|      330|     Human Resources|               1|        3|   Life Sciences|            1|          1499|                      3|  Male|        46|             3|       1|     Human Resources|              3|     Divorced|         2064|      15428|                 0|     Y|      No|               21|                4|                       1|           80|               1|                6|                    3|              4|             5|                 3|                      1|                   3|\n",
      "| 55|    Travel_Rarely|     1229|Research & Develo...|               4|        4|   Life Sciences|            1|          1501|                      4|  Male|        30|             3|       2|Healthcare Repres...|              3|      Married|         4035|      16143|                 0|     Y|     Yes|               16|                3|                       2|           80|               0|                4|                    2|              3|             3|                 2|                      1|                   2|\n",
      "| 33|    Travel_Rarely|     1099|Research & Develo...|               4|        4|         Medical|            1|          1502|                      1|Female|        82|             2|       1|Laboratory Techni...|              2|      Married|         3838|       8192|                 8|     Y|      No|               11|                3|                       4|           80|               0|                8|                    5|              3|             5|                 4|                      0|                   2|\n",
      "| 47|    Travel_Rarely|      571|               Sales|              14|        3|         Medical|            1|          1503|                      3|Female|        78|             3|       2|     Sales Executive|              3|      Married|         4591|      24200|                 3|     Y|     Yes|               17|                3|                       3|           80|               1|               11|                    4|              2|             5|                 4|                      1|                   2|\n",
      "| 28|Travel_Frequently|      289|Research & Develo...|               2|        2|         Medical|            1|          1504|                      3|  Male|        38|             2|       1|Laboratory Techni...|              1|       Single|         2561|       5355|                 7|     Y|      No|               11|                3|                       3|           80|               0|                8|                    2|              2|             0|                 0|                      0|                   0|\n",
      "| 28|    Travel_Rarely|     1423|Research & Develo...|               1|        3|   Life Sciences|            1|          1506|                      1|  Male|        72|             2|       1|  Research Scientist|              3|     Divorced|         1563|      12530|                 1|     Y|      No|               14|                3|                       4|           80|               1|                1|                    2|              1|             1|                 0|                      0|                   0|\n",
      "| 28|Travel_Frequently|      467|               Sales|               7|        3|   Life Sciences|            1|          1507|                      3|  Male|        55|             3|       2|     Sales Executive|              1|       Single|         4898|      11827|                 0|     Y|      No|               14|                3|                       4|           80|               0|                5|                    5|              3|             4|                 2|                      1|                   3|\n",
      "| 49|    Travel_Rarely|      271|Research & Develo...|               3|        2|         Medical|            1|          1509|                      3|Female|        43|             2|       2|Laboratory Techni...|              1|      Married|         4789|      23070|                 4|     Y|      No|               25|                4|                       1|           80|               1|               10|                    3|              3|             3|                 2|                      1|                   2|\n",
      "| 29|Travel_Frequently|      410|Research & Develo...|               2|        1|   Life Sciences|            1|          1513|                      4|Female|        97|             3|       1|Laboratory Techni...|              2|      Married|         3180|       4668|                 0|     Y|      No|               13|                3|                       3|           80|               3|                4|                    3|              3|             3|                 2|                      0|                   2|\n",
      "| 28|    Travel_Rarely|     1083|Research & Develo...|              29|        1|   Life Sciences|            1|          1514|                      3|  Male|        96|             1|       2|Manufacturing Dir...|              2|      Married|         6549|       3173|                 1|     Y|      No|               14|                3|                       2|           80|               2|                8|                    2|              2|             8|                 6|                      1|                   7|\n",
      "| 33|    Travel_Rarely|      516|Research & Develo...|               8|        5|   Life Sciences|            1|          1515|                      4|  Male|        69|             3|       2|Healthcare Repres...|              3|       Single|         6388|      22049|                 2|     Y|     Yes|               17|                3|                       1|           80|               0|               14|                    6|              3|             0|                 0|                      0|                   0|\n",
      "| 32|    Travel_Rarely|      495|Research & Develo...|              10|        3|         Medical|            1|          1516|                      3|  Male|        64|             3|       3|             Manager|              4|       Single|        11244|      21072|                 2|     Y|      No|               25|                4|                       2|           80|               0|               10|                    5|              4|             5|                 2|                      0|                   0|\n",
      "| 54|Travel_Frequently|     1050|Research & Develo...|              11|        4|         Medical|            1|          1520|                      2|Female|        87|             3|       4|             Manager|              4|     Divorced|        16032|      24456|                 3|     Y|      No|               20|                4|                       1|           80|               1|               26|                    2|              3|            14|                 9|                      1|                  12|\n",
      "| 29|    Travel_Rarely|      224|Research & Develo...|               1|        4|Technical Degree|            1|          1522|                      1|  Male|       100|             2|       1|  Research Scientist|              1|       Single|         2362|       7568|                 6|     Y|      No|               13|                3|                       3|           80|               0|               11|                    2|              1|             9|                 7|                      0|                   7|\n",
      "+---+-----------------+---------+--------------------+----------------+---------+----------------+-------------+--------------+-----------------------+------+----------+--------------+--------+--------------------+---------------+-------------+-------------+-----------+------------------+------+--------+-----------------+-----------------+------------------------+-------------+----------------+-----------------+---------------------+---------------+--------------+------------------+-----------------------+--------------------+\n",
      "only showing top 20 rows\n",
      "\n"
     ]
    }
   ],
   "source": [
    "emp1_df.show()"
   ]
  },
  {
   "cell_type": "code",
   "execution_count": 12,
   "id": "90a20677",
   "metadata": {},
   "outputs": [],
   "source": [
    "df2 = spark.read.format(\"csv\").option(key = \"header\", value = \"True\").load(path = r\"D:\\PySpark\\csv files\\employee1.csv\")"
   ]
  },
  {
   "cell_type": "code",
   "execution_count": 13,
   "id": "d13568a0",
   "metadata": {},
   "outputs": [
    {
     "name": "stdout",
     "output_type": "stream",
     "text": [
      "+---+-----------------+---------+--------------------+----------------+---------+----------------+-------------+--------------+-----------------------+------+----------+--------------+--------+--------------------+---------------+-------------+-------------+-----------+------------------+------+--------+-----------------+-----------------+------------------------+-------------+----------------+-----------------+---------------------+---------------+--------------+------------------+-----------------------+--------------------+\n",
      "|Age|   BusinessTravel|DailyRate|          Department|DistanceFromHome|Education|  EducationField|EmployeeCount|EmployeeNumber|EnvironmentSatisfaction|Gender|HourlyRate|JobInvolvement|JobLevel|             JobRole|JobSatisfaction|MaritalStatus|MonthlyIncome|MonthlyRate|NumCompaniesWorked|Over18|OverTime|PercentSalaryHike|PerformanceRating|RelationshipSatisfaction|StandardHours|StockOptionLevel|TotalWorkingYears|TrainingTimesLastYear|WorkLifeBalance|YearsAtCompany|YearsInCurrentRole|YearsSinceLastPromotion|YearsWithCurrManager|\n",
      "+---+-----------------+---------+--------------------+----------------+---------+----------------+-------------+--------------+-----------------------+------+----------+--------------+--------+--------------------+---------------+-------------+-------------+-----------+------------------+------+--------+-----------------+-----------------+------------------------+-------------+----------------+-----------------+---------------------+---------------+--------------+------------------+-----------------------+--------------------+\n",
      "| 34|    Travel_Rarely|      790|               Sales|              24|        4|         Medical|            1|          1489|                      1|Female|        40|             2|       2|     Sales Executive|              2|       Single|         4599|       7815|                 0|     Y|     Yes|               23|                4|                       3|           80|               0|               16|                    2|              4|            15|                 9|                     10|                  10|\n",
      "| 35|    Travel_Rarely|      660|               Sales|               7|        1|   Life Sciences|            1|          1492|                      4|  Male|        76|             3|       1|Sales Representative|              3|      Married|         2404|      16192|                 1|     Y|      No|               13|                3|                       1|           80|               1|                1|                    3|              3|             1|                 0|                      0|                   0|\n",
      "| 24|Travel_Frequently|      381|Research & Develo...|               9|        3|         Medical|            1|          1494|                      2|  Male|        89|             3|       1|Laboratory Techni...|              1|       Single|         3172|      16998|                 2|     Y|     Yes|               11|                3|                       3|           80|               0|                4|                    2|              2|             0|                 0|                      0|                   0|\n",
      "| 24|       Non-Travel|      830|               Sales|              13|        2|   Life Sciences|            1|          1495|                      4|Female|        78|             3|       1|Sales Representative|              2|      Married|         2033|       7103|                 1|     Y|      No|               13|                3|                       3|           80|               1|                1|                    2|              3|             1|                 0|                      0|                   0|\n",
      "| 44|Travel_Frequently|     1193|Research & Develo...|               2|        1|         Medical|            1|          1496|                      2|  Male|        86|             3|       3|Manufacturing Dir...|              3|       Single|        10209|      19719|                 5|     Y|     Yes|               18|                3|                       2|           80|               0|               16|                    2|              2|             2|                 2|                      2|                   2|\n",
      "| 29|    Travel_Rarely|     1246|               Sales|              19|        3|   Life Sciences|            1|          1497|                      3|  Male|        77|             2|       2|     Sales Executive|              3|     Divorced|         8620|      23757|                 1|     Y|      No|               14|                3|                       3|           80|               2|               10|                    3|              3|            10|                 7|                      0|                   4|\n",
      "| 30|    Travel_Rarely|      330|     Human Resources|               1|        3|   Life Sciences|            1|          1499|                      3|  Male|        46|             3|       1|     Human Resources|              3|     Divorced|         2064|      15428|                 0|     Y|      No|               21|                4|                       1|           80|               1|                6|                    3|              4|             5|                 3|                      1|                   3|\n",
      "| 55|    Travel_Rarely|     1229|Research & Develo...|               4|        4|   Life Sciences|            1|          1501|                      4|  Male|        30|             3|       2|Healthcare Repres...|              3|      Married|         4035|      16143|                 0|     Y|     Yes|               16|                3|                       2|           80|               0|                4|                    2|              3|             3|                 2|                      1|                   2|\n",
      "| 33|    Travel_Rarely|     1099|Research & Develo...|               4|        4|         Medical|            1|          1502|                      1|Female|        82|             2|       1|Laboratory Techni...|              2|      Married|         3838|       8192|                 8|     Y|      No|               11|                3|                       4|           80|               0|                8|                    5|              3|             5|                 4|                      0|                   2|\n",
      "| 47|    Travel_Rarely|      571|               Sales|              14|        3|         Medical|            1|          1503|                      3|Female|        78|             3|       2|     Sales Executive|              3|      Married|         4591|      24200|                 3|     Y|     Yes|               17|                3|                       3|           80|               1|               11|                    4|              2|             5|                 4|                      1|                   2|\n",
      "| 28|Travel_Frequently|      289|Research & Develo...|               2|        2|         Medical|            1|          1504|                      3|  Male|        38|             2|       1|Laboratory Techni...|              1|       Single|         2561|       5355|                 7|     Y|      No|               11|                3|                       3|           80|               0|                8|                    2|              2|             0|                 0|                      0|                   0|\n",
      "| 28|    Travel_Rarely|     1423|Research & Develo...|               1|        3|   Life Sciences|            1|          1506|                      1|  Male|        72|             2|       1|  Research Scientist|              3|     Divorced|         1563|      12530|                 1|     Y|      No|               14|                3|                       4|           80|               1|                1|                    2|              1|             1|                 0|                      0|                   0|\n",
      "| 28|Travel_Frequently|      467|               Sales|               7|        3|   Life Sciences|            1|          1507|                      3|  Male|        55|             3|       2|     Sales Executive|              1|       Single|         4898|      11827|                 0|     Y|      No|               14|                3|                       4|           80|               0|                5|                    5|              3|             4|                 2|                      1|                   3|\n",
      "| 49|    Travel_Rarely|      271|Research & Develo...|               3|        2|         Medical|            1|          1509|                      3|Female|        43|             2|       2|Laboratory Techni...|              1|      Married|         4789|      23070|                 4|     Y|      No|               25|                4|                       1|           80|               1|               10|                    3|              3|             3|                 2|                      1|                   2|\n",
      "| 29|Travel_Frequently|      410|Research & Develo...|               2|        1|   Life Sciences|            1|          1513|                      4|Female|        97|             3|       1|Laboratory Techni...|              2|      Married|         3180|       4668|                 0|     Y|      No|               13|                3|                       3|           80|               3|                4|                    3|              3|             3|                 2|                      0|                   2|\n",
      "| 28|    Travel_Rarely|     1083|Research & Develo...|              29|        1|   Life Sciences|            1|          1514|                      3|  Male|        96|             1|       2|Manufacturing Dir...|              2|      Married|         6549|       3173|                 1|     Y|      No|               14|                3|                       2|           80|               2|                8|                    2|              2|             8|                 6|                      1|                   7|\n",
      "| 33|    Travel_Rarely|      516|Research & Develo...|               8|        5|   Life Sciences|            1|          1515|                      4|  Male|        69|             3|       2|Healthcare Repres...|              3|       Single|         6388|      22049|                 2|     Y|     Yes|               17|                3|                       1|           80|               0|               14|                    6|              3|             0|                 0|                      0|                   0|\n",
      "| 32|    Travel_Rarely|      495|Research & Develo...|              10|        3|         Medical|            1|          1516|                      3|  Male|        64|             3|       3|             Manager|              4|       Single|        11244|      21072|                 2|     Y|      No|               25|                4|                       2|           80|               0|               10|                    5|              4|             5|                 2|                      0|                   0|\n",
      "| 54|Travel_Frequently|     1050|Research & Develo...|              11|        4|         Medical|            1|          1520|                      2|Female|        87|             3|       4|             Manager|              4|     Divorced|        16032|      24456|                 3|     Y|      No|               20|                4|                       1|           80|               1|               26|                    2|              3|            14|                 9|                      1|                  12|\n",
      "| 29|    Travel_Rarely|      224|Research & Develo...|               1|        4|Technical Degree|            1|          1522|                      1|  Male|       100|             2|       1|  Research Scientist|              1|       Single|         2362|       7568|                 6|     Y|      No|               13|                3|                       3|           80|               0|               11|                    2|              1|             9|                 7|                      0|                   7|\n",
      "+---+-----------------+---------+--------------------+----------------+---------+----------------+-------------+--------------+-----------------------+------+----------+--------------+--------+--------------------+---------------+-------------+-------------+-----------+------------------+------+--------+-----------------+-----------------+------------------------+-------------+----------------+-----------------+---------------------+---------------+--------------+------------------+-----------------------+--------------------+\n",
      "only showing top 20 rows\n",
      "\n"
     ]
    }
   ],
   "source": [
    "df2.show()"
   ]
  },
  {
   "cell_type": "code",
   "execution_count": 15,
   "id": "80ae5275",
   "metadata": {},
   "outputs": [
    {
     "name": "stdout",
     "output_type": "stream",
     "text": [
      "root\n",
      " |-- Age: string (nullable = true)\n",
      " |-- BusinessTravel: string (nullable = true)\n",
      " |-- DailyRate: string (nullable = true)\n",
      " |-- Department: string (nullable = true)\n",
      " |-- DistanceFromHome: string (nullable = true)\n",
      " |-- Education: string (nullable = true)\n",
      " |-- EducationField: string (nullable = true)\n",
      " |-- EmployeeCount: string (nullable = true)\n",
      " |-- EmployeeNumber: string (nullable = true)\n",
      " |-- EnvironmentSatisfaction: string (nullable = true)\n",
      " |-- Gender: string (nullable = true)\n",
      " |-- HourlyRate: string (nullable = true)\n",
      " |-- JobInvolvement: string (nullable = true)\n",
      " |-- JobLevel: string (nullable = true)\n",
      " |-- JobRole: string (nullable = true)\n",
      " |-- JobSatisfaction: string (nullable = true)\n",
      " |-- MaritalStatus: string (nullable = true)\n",
      " |-- MonthlyIncome: string (nullable = true)\n",
      " |-- MonthlyRate: string (nullable = true)\n",
      " |-- NumCompaniesWorked: string (nullable = true)\n",
      " |-- Over18: string (nullable = true)\n",
      " |-- OverTime: string (nullable = true)\n",
      " |-- PercentSalaryHike: string (nullable = true)\n",
      " |-- PerformanceRating: string (nullable = true)\n",
      " |-- RelationshipSatisfaction: string (nullable = true)\n",
      " |-- StandardHours: string (nullable = true)\n",
      " |-- StockOptionLevel: string (nullable = true)\n",
      " |-- TotalWorkingYears: string (nullable = true)\n",
      " |-- TrainingTimesLastYear: string (nullable = true)\n",
      " |-- WorkLifeBalance: string (nullable = true)\n",
      " |-- YearsAtCompany: string (nullable = true)\n",
      " |-- YearsInCurrentRole: string (nullable = true)\n",
      " |-- YearsSinceLastPromotion: string (nullable = true)\n",
      " |-- YearsWithCurrManager: string (nullable = true)\n",
      "\n"
     ]
    }
   ],
   "source": [
    "df2.printSchema()"
   ]
  },
  {
   "cell_type": "markdown",
   "id": "bc5f8b24",
   "metadata": {},
   "source": [
    "### Reading 2 different csv files into 1 Dataframe"
   ]
  },
  {
   "cell_type": "code",
   "execution_count": 19,
   "id": "d67e68e2",
   "metadata": {},
   "outputs": [],
   "source": [
    "df3 = spark.read.csv(path = [r\"D:\\PySpark\\csv files\\employee1.csv\", r\"D:\\PySpark\\csv files\\employee2.csv\"], header = True, inferSchema = True)"
   ]
  },
  {
   "cell_type": "code",
   "execution_count": 20,
   "id": "5161eaa6",
   "metadata": {},
   "outputs": [
    {
     "data": {
      "text/plain": [
       "Row(Age=34, BusinessTravel='Travel_Rarely', DailyRate=790, Department='Sales', DistanceFromHome=24, Education=4, EducationField='Medical', EmployeeCount=1, EmployeeNumber=1489, EnvironmentSatisfaction=1, Gender='Female', HourlyRate=40, JobInvolvement=2, JobLevel=2, JobRole='Sales Executive', JobSatisfaction=2, MaritalStatus='Single', MonthlyIncome=4599, MonthlyRate=7815, NumCompaniesWorked=0, Over18='Y', OverTime='Yes', PercentSalaryHike=23, PerformanceRating=4, RelationshipSatisfaction=3, StandardHours=80, StockOptionLevel=0, TotalWorkingYears=16, TrainingTimesLastYear=2, WorkLifeBalance=4, YearsAtCompany=15, YearsInCurrentRole=9, YearsSinceLastPromotion=10, YearsWithCurrManager=10)"
      ]
     },
     "execution_count": 20,
     "metadata": {},
     "output_type": "execute_result"
    }
   ],
   "source": [
    "df3.head()"
   ]
  },
  {
   "cell_type": "code",
   "execution_count": 21,
   "id": "09022219",
   "metadata": {},
   "outputs": [
    {
     "name": "stdout",
     "output_type": "stream",
     "text": [
      "+---+-----------------+---------+--------------------+----------------+---------+----------------+-------------+--------------+-----------------------+------+----------+--------------+--------+--------------------+---------------+-------------+-------------+-----------+------------------+------+--------+-----------------+-----------------+------------------------+-------------+----------------+-----------------+---------------------+---------------+--------------+------------------+-----------------------+--------------------+\n",
      "|Age|   BusinessTravel|DailyRate|          Department|DistanceFromHome|Education|  EducationField|EmployeeCount|EmployeeNumber|EnvironmentSatisfaction|Gender|HourlyRate|JobInvolvement|JobLevel|             JobRole|JobSatisfaction|MaritalStatus|MonthlyIncome|MonthlyRate|NumCompaniesWorked|Over18|OverTime|PercentSalaryHike|PerformanceRating|RelationshipSatisfaction|StandardHours|StockOptionLevel|TotalWorkingYears|TrainingTimesLastYear|WorkLifeBalance|YearsAtCompany|YearsInCurrentRole|YearsSinceLastPromotion|YearsWithCurrManager|\n",
      "+---+-----------------+---------+--------------------+----------------+---------+----------------+-------------+--------------+-----------------------+------+----------+--------------+--------+--------------------+---------------+-------------+-------------+-----------+------------------+------+--------+-----------------+-----------------+------------------------+-------------+----------------+-----------------+---------------------+---------------+--------------+------------------+-----------------------+--------------------+\n",
      "| 34|    Travel_Rarely|      790|               Sales|              24|        4|         Medical|            1|          1489|                      1|Female|        40|             2|       2|     Sales Executive|              2|       Single|         4599|       7815|                 0|     Y|     Yes|               23|                4|                       3|           80|               0|               16|                    2|              4|            15|                 9|                     10|                  10|\n",
      "| 35|    Travel_Rarely|      660|               Sales|               7|        1|   Life Sciences|            1|          1492|                      4|  Male|        76|             3|       1|Sales Representative|              3|      Married|         2404|      16192|                 1|     Y|      No|               13|                3|                       1|           80|               1|                1|                    3|              3|             1|                 0|                      0|                   0|\n",
      "| 24|Travel_Frequently|      381|Research & Develo...|               9|        3|         Medical|            1|          1494|                      2|  Male|        89|             3|       1|Laboratory Techni...|              1|       Single|         3172|      16998|                 2|     Y|     Yes|               11|                3|                       3|           80|               0|                4|                    2|              2|             0|                 0|                      0|                   0|\n",
      "| 24|       Non-Travel|      830|               Sales|              13|        2|   Life Sciences|            1|          1495|                      4|Female|        78|             3|       1|Sales Representative|              2|      Married|         2033|       7103|                 1|     Y|      No|               13|                3|                       3|           80|               1|                1|                    2|              3|             1|                 0|                      0|                   0|\n",
      "| 44|Travel_Frequently|     1193|Research & Develo...|               2|        1|         Medical|            1|          1496|                      2|  Male|        86|             3|       3|Manufacturing Dir...|              3|       Single|        10209|      19719|                 5|     Y|     Yes|               18|                3|                       2|           80|               0|               16|                    2|              2|             2|                 2|                      2|                   2|\n",
      "| 29|    Travel_Rarely|     1246|               Sales|              19|        3|   Life Sciences|            1|          1497|                      3|  Male|        77|             2|       2|     Sales Executive|              3|     Divorced|         8620|      23757|                 1|     Y|      No|               14|                3|                       3|           80|               2|               10|                    3|              3|            10|                 7|                      0|                   4|\n",
      "| 30|    Travel_Rarely|      330|     Human Resources|               1|        3|   Life Sciences|            1|          1499|                      3|  Male|        46|             3|       1|     Human Resources|              3|     Divorced|         2064|      15428|                 0|     Y|      No|               21|                4|                       1|           80|               1|                6|                    3|              4|             5|                 3|                      1|                   3|\n",
      "| 55|    Travel_Rarely|     1229|Research & Develo...|               4|        4|   Life Sciences|            1|          1501|                      4|  Male|        30|             3|       2|Healthcare Repres...|              3|      Married|         4035|      16143|                 0|     Y|     Yes|               16|                3|                       2|           80|               0|                4|                    2|              3|             3|                 2|                      1|                   2|\n",
      "| 33|    Travel_Rarely|     1099|Research & Develo...|               4|        4|         Medical|            1|          1502|                      1|Female|        82|             2|       1|Laboratory Techni...|              2|      Married|         3838|       8192|                 8|     Y|      No|               11|                3|                       4|           80|               0|                8|                    5|              3|             5|                 4|                      0|                   2|\n",
      "| 47|    Travel_Rarely|      571|               Sales|              14|        3|         Medical|            1|          1503|                      3|Female|        78|             3|       2|     Sales Executive|              3|      Married|         4591|      24200|                 3|     Y|     Yes|               17|                3|                       3|           80|               1|               11|                    4|              2|             5|                 4|                      1|                   2|\n",
      "| 28|Travel_Frequently|      289|Research & Develo...|               2|        2|         Medical|            1|          1504|                      3|  Male|        38|             2|       1|Laboratory Techni...|              1|       Single|         2561|       5355|                 7|     Y|      No|               11|                3|                       3|           80|               0|                8|                    2|              2|             0|                 0|                      0|                   0|\n",
      "| 28|    Travel_Rarely|     1423|Research & Develo...|               1|        3|   Life Sciences|            1|          1506|                      1|  Male|        72|             2|       1|  Research Scientist|              3|     Divorced|         1563|      12530|                 1|     Y|      No|               14|                3|                       4|           80|               1|                1|                    2|              1|             1|                 0|                      0|                   0|\n",
      "| 28|Travel_Frequently|      467|               Sales|               7|        3|   Life Sciences|            1|          1507|                      3|  Male|        55|             3|       2|     Sales Executive|              1|       Single|         4898|      11827|                 0|     Y|      No|               14|                3|                       4|           80|               0|                5|                    5|              3|             4|                 2|                      1|                   3|\n",
      "| 49|    Travel_Rarely|      271|Research & Develo...|               3|        2|         Medical|            1|          1509|                      3|Female|        43|             2|       2|Laboratory Techni...|              1|      Married|         4789|      23070|                 4|     Y|      No|               25|                4|                       1|           80|               1|               10|                    3|              3|             3|                 2|                      1|                   2|\n",
      "| 29|Travel_Frequently|      410|Research & Develo...|               2|        1|   Life Sciences|            1|          1513|                      4|Female|        97|             3|       1|Laboratory Techni...|              2|      Married|         3180|       4668|                 0|     Y|      No|               13|                3|                       3|           80|               3|                4|                    3|              3|             3|                 2|                      0|                   2|\n",
      "| 28|    Travel_Rarely|     1083|Research & Develo...|              29|        1|   Life Sciences|            1|          1514|                      3|  Male|        96|             1|       2|Manufacturing Dir...|              2|      Married|         6549|       3173|                 1|     Y|      No|               14|                3|                       2|           80|               2|                8|                    2|              2|             8|                 6|                      1|                   7|\n",
      "| 33|    Travel_Rarely|      516|Research & Develo...|               8|        5|   Life Sciences|            1|          1515|                      4|  Male|        69|             3|       2|Healthcare Repres...|              3|       Single|         6388|      22049|                 2|     Y|     Yes|               17|                3|                       1|           80|               0|               14|                    6|              3|             0|                 0|                      0|                   0|\n",
      "| 32|    Travel_Rarely|      495|Research & Develo...|              10|        3|         Medical|            1|          1516|                      3|  Male|        64|             3|       3|             Manager|              4|       Single|        11244|      21072|                 2|     Y|      No|               25|                4|                       2|           80|               0|               10|                    5|              4|             5|                 2|                      0|                   0|\n",
      "| 54|Travel_Frequently|     1050|Research & Develo...|              11|        4|         Medical|            1|          1520|                      2|Female|        87|             3|       4|             Manager|              4|     Divorced|        16032|      24456|                 3|     Y|      No|               20|                4|                       1|           80|               1|               26|                    2|              3|            14|                 9|                      1|                  12|\n",
      "| 29|    Travel_Rarely|      224|Research & Develo...|               1|        4|Technical Degree|            1|          1522|                      1|  Male|       100|             2|       1|  Research Scientist|              1|       Single|         2362|       7568|                 6|     Y|      No|               13|                3|                       3|           80|               0|               11|                    2|              1|             9|                 7|                      0|                   7|\n",
      "+---+-----------------+---------+--------------------+----------------+---------+----------------+-------------+--------------+-----------------------+------+----------+--------------+--------+--------------------+---------------+-------------+-------------+-----------+------------------+------+--------+-----------------+-----------------+------------------------+-------------+----------------+-----------------+---------------------+---------------+--------------+------------------+-----------------------+--------------------+\n",
      "only showing top 20 rows\n",
      "\n"
     ]
    }
   ],
   "source": [
    "df3.show()"
   ]
  },
  {
   "cell_type": "code",
   "execution_count": 22,
   "id": "34c0ba46",
   "metadata": {},
   "outputs": [
    {
     "data": {
      "text/plain": [
       "824"
      ]
     },
     "execution_count": 22,
     "metadata": {},
     "output_type": "execute_result"
    }
   ],
   "source": [
    "df3.count()"
   ]
  },
  {
   "cell_type": "markdown",
   "id": "cdb071aa",
   "metadata": {},
   "source": [
    "### Reading all csv files in a folder"
   ]
  },
  {
   "cell_type": "code",
   "execution_count": 28,
   "id": "b9cc7233",
   "metadata": {},
   "outputs": [
    {
     "ename": "Py4JJavaError",
     "evalue": "An error occurred while calling o93.csv.\n: java.lang.UnsatisfiedLinkError: 'boolean org.apache.hadoop.io.nativeio.NativeIO$Windows.access0(java.lang.String, int)'\r\n\tat org.apache.hadoop.io.nativeio.NativeIO$Windows.access0(Native Method)\r\n\tat org.apache.hadoop.io.nativeio.NativeIO$Windows.access(NativeIO.java:793)\r\n\tat org.apache.hadoop.fs.FileUtil.canRead(FileUtil.java:1249)\r\n\tat org.apache.hadoop.fs.FileUtil.list(FileUtil.java:1454)\r\n\tat org.apache.hadoop.fs.RawLocalFileSystem.listStatus(RawLocalFileSystem.java:601)\r\n\tat org.apache.hadoop.fs.FileSystem.listStatus(FileSystem.java:1972)\r\n\tat org.apache.hadoop.fs.FileSystem.listStatus(FileSystem.java:2014)\r\n\tat org.apache.hadoop.fs.ChecksumFileSystem.listStatus(ChecksumFileSystem.java:761)\r\n\tat org.apache.spark.util.HadoopFSUtils$.listLeafFiles(HadoopFSUtils.scala:225)\r\n\tat org.apache.spark.util.HadoopFSUtils$.$anonfun$parallelListLeafFilesInternal$1(HadoopFSUtils.scala:95)\r\n\tat scala.collection.TraversableLike.$anonfun$map$1(TraversableLike.scala:286)\r\n\tat scala.collection.mutable.ResizableArray.foreach(ResizableArray.scala:62)\r\n\tat scala.collection.mutable.ResizableArray.foreach$(ResizableArray.scala:55)\r\n\tat scala.collection.mutable.ArrayBuffer.foreach(ArrayBuffer.scala:49)\r\n\tat scala.collection.TraversableLike.map(TraversableLike.scala:286)\r\n\tat scala.collection.TraversableLike.map$(TraversableLike.scala:279)\r\n\tat scala.collection.AbstractTraversable.map(Traversable.scala:108)\r\n\tat org.apache.spark.util.HadoopFSUtils$.parallelListLeafFilesInternal(HadoopFSUtils.scala:85)\r\n\tat org.apache.spark.util.HadoopFSUtils$.parallelListLeafFiles(HadoopFSUtils.scala:69)\r\n\tat org.apache.spark.sql.execution.datasources.InMemoryFileIndex$.bulkListLeafFiles(InMemoryFileIndex.scala:162)\r\n\tat org.apache.spark.sql.execution.datasources.InMemoryFileIndex.listLeafFiles(InMemoryFileIndex.scala:133)\r\n\tat org.apache.spark.sql.execution.datasources.InMemoryFileIndex.refresh0(InMemoryFileIndex.scala:96)\r\n\tat org.apache.spark.sql.execution.datasources.InMemoryFileIndex.<init>(InMemoryFileIndex.scala:68)\r\n\tat org.apache.spark.sql.execution.datasources.DataSource.createInMemoryFileIndex(DataSource.scala:539)\r\n\tat org.apache.spark.sql.execution.datasources.DataSource.resolveRelation(DataSource.scala:405)\r\n\tat org.apache.spark.sql.DataFrameReader.loadV1Source(DataFrameReader.scala:229)\r\n\tat org.apache.spark.sql.DataFrameReader.$anonfun$load$2(DataFrameReader.scala:211)\r\n\tat scala.Option.getOrElse(Option.scala:189)\r\n\tat org.apache.spark.sql.DataFrameReader.load(DataFrameReader.scala:211)\r\n\tat org.apache.spark.sql.DataFrameReader.csv(DataFrameReader.scala:538)\r\n\tat java.base/jdk.internal.reflect.NativeMethodAccessorImpl.invoke0(Native Method)\r\n\tat java.base/jdk.internal.reflect.NativeMethodAccessorImpl.invoke(NativeMethodAccessorImpl.java:76)\r\n\tat java.base/jdk.internal.reflect.DelegatingMethodAccessorImpl.invoke(DelegatingMethodAccessorImpl.java:52)\r\n\tat java.base/java.lang.reflect.Method.invoke(Method.java:577)\r\n\tat py4j.reflection.MethodInvoker.invoke(MethodInvoker.java:244)\r\n\tat py4j.reflection.ReflectionEngine.invoke(ReflectionEngine.java:374)\r\n\tat py4j.Gateway.invoke(Gateway.java:282)\r\n\tat py4j.commands.AbstractCommand.invokeMethod(AbstractCommand.java:132)\r\n\tat py4j.commands.CallCommand.execute(CallCommand.java:79)\r\n\tat py4j.ClientServerConnection.waitForCommands(ClientServerConnection.java:182)\r\n\tat py4j.ClientServerConnection.run(ClientServerConnection.java:106)\r\n\tat java.base/java.lang.Thread.run(Thread.java:833)\r\n",
     "output_type": "error",
     "traceback": [
      "\u001b[1;31m---------------------------------------------------------------------------\u001b[0m",
      "\u001b[1;31mPy4JJavaError\u001b[0m                             Traceback (most recent call last)",
      "Cell \u001b[1;32mIn[28], line 1\u001b[0m\n\u001b[1;32m----> 1\u001b[0m df4 \u001b[38;5;241m=\u001b[39m \u001b[43mspark\u001b[49m\u001b[38;5;241;43m.\u001b[39;49m\u001b[43mread\u001b[49m\u001b[38;5;241;43m.\u001b[39;49m\u001b[43mcsv\u001b[49m\u001b[43m(\u001b[49m\u001b[43mpath\u001b[49m\u001b[43m \u001b[49m\u001b[38;5;241;43m=\u001b[39;49m\u001b[43m \u001b[49m\u001b[38;5;124;43m'\u001b[39;49m\u001b[38;5;124;43mD:/PySpark/csv files/\u001b[39;49m\u001b[38;5;124;43m'\u001b[39;49m\u001b[43m,\u001b[49m\u001b[43m \u001b[49m\u001b[43mheader\u001b[49m\u001b[43m \u001b[49m\u001b[38;5;241;43m=\u001b[39;49m\u001b[43m \u001b[49m\u001b[38;5;28;43;01mTrue\u001b[39;49;00m\u001b[43m)\u001b[49m\n",
      "File \u001b[1;32m~\\AppData\\Local\\Programs\\Python\\Python310\\lib\\site-packages\\pyspark\\sql\\readwriter.py:727\u001b[0m, in \u001b[0;36mDataFrameReader.csv\u001b[1;34m(self, path, schema, sep, encoding, quote, escape, comment, header, inferSchema, ignoreLeadingWhiteSpace, ignoreTrailingWhiteSpace, nullValue, nanValue, positiveInf, negativeInf, dateFormat, timestampFormat, maxColumns, maxCharsPerColumn, maxMalformedLogPerPartition, mode, columnNameOfCorruptRecord, multiLine, charToEscapeQuoteEscaping, samplingRatio, enforceSchema, emptyValue, locale, lineSep, pathGlobFilter, recursiveFileLookup, modifiedBefore, modifiedAfter, unescapedQuoteHandling)\u001b[0m\n\u001b[0;32m    725\u001b[0m \u001b[38;5;28;01mif\u001b[39;00m \u001b[38;5;28mtype\u001b[39m(path) \u001b[38;5;241m==\u001b[39m \u001b[38;5;28mlist\u001b[39m:\n\u001b[0;32m    726\u001b[0m     \u001b[38;5;28;01massert\u001b[39;00m \u001b[38;5;28mself\u001b[39m\u001b[38;5;241m.\u001b[39m_spark\u001b[38;5;241m.\u001b[39m_sc\u001b[38;5;241m.\u001b[39m_jvm \u001b[38;5;129;01mis\u001b[39;00m \u001b[38;5;129;01mnot\u001b[39;00m \u001b[38;5;28;01mNone\u001b[39;00m\n\u001b[1;32m--> 727\u001b[0m     \u001b[38;5;28;01mreturn\u001b[39;00m \u001b[38;5;28mself\u001b[39m\u001b[38;5;241m.\u001b[39m_df(\u001b[38;5;28;43mself\u001b[39;49m\u001b[38;5;241;43m.\u001b[39;49m\u001b[43m_jreader\u001b[49m\u001b[38;5;241;43m.\u001b[39;49m\u001b[43mcsv\u001b[49m\u001b[43m(\u001b[49m\u001b[38;5;28;43mself\u001b[39;49m\u001b[38;5;241;43m.\u001b[39;49m\u001b[43m_spark\u001b[49m\u001b[38;5;241;43m.\u001b[39;49m\u001b[43m_sc\u001b[49m\u001b[38;5;241;43m.\u001b[39;49m\u001b[43m_jvm\u001b[49m\u001b[38;5;241;43m.\u001b[39;49m\u001b[43mPythonUtils\u001b[49m\u001b[38;5;241;43m.\u001b[39;49m\u001b[43mtoSeq\u001b[49m\u001b[43m(\u001b[49m\u001b[43mpath\u001b[49m\u001b[43m)\u001b[49m\u001b[43m)\u001b[49m)\n\u001b[0;32m    728\u001b[0m \u001b[38;5;28;01melif\u001b[39;00m \u001b[38;5;28misinstance\u001b[39m(path, RDD):\n\u001b[0;32m    730\u001b[0m     \u001b[38;5;28;01mdef\u001b[39;00m \u001b[38;5;21mfunc\u001b[39m(iterator):\n",
      "File \u001b[1;32m~\\AppData\\Local\\Programs\\Python\\Python310\\lib\\site-packages\\py4j\\java_gateway.py:1322\u001b[0m, in \u001b[0;36mJavaMember.__call__\u001b[1;34m(self, *args)\u001b[0m\n\u001b[0;32m   1316\u001b[0m command \u001b[38;5;241m=\u001b[39m proto\u001b[38;5;241m.\u001b[39mCALL_COMMAND_NAME \u001b[38;5;241m+\u001b[39m\\\n\u001b[0;32m   1317\u001b[0m     \u001b[38;5;28mself\u001b[39m\u001b[38;5;241m.\u001b[39mcommand_header \u001b[38;5;241m+\u001b[39m\\\n\u001b[0;32m   1318\u001b[0m     args_command \u001b[38;5;241m+\u001b[39m\\\n\u001b[0;32m   1319\u001b[0m     proto\u001b[38;5;241m.\u001b[39mEND_COMMAND_PART\n\u001b[0;32m   1321\u001b[0m answer \u001b[38;5;241m=\u001b[39m \u001b[38;5;28mself\u001b[39m\u001b[38;5;241m.\u001b[39mgateway_client\u001b[38;5;241m.\u001b[39msend_command(command)\n\u001b[1;32m-> 1322\u001b[0m return_value \u001b[38;5;241m=\u001b[39m \u001b[43mget_return_value\u001b[49m\u001b[43m(\u001b[49m\n\u001b[0;32m   1323\u001b[0m \u001b[43m    \u001b[49m\u001b[43manswer\u001b[49m\u001b[43m,\u001b[49m\u001b[43m \u001b[49m\u001b[38;5;28;43mself\u001b[39;49m\u001b[38;5;241;43m.\u001b[39;49m\u001b[43mgateway_client\u001b[49m\u001b[43m,\u001b[49m\u001b[43m \u001b[49m\u001b[38;5;28;43mself\u001b[39;49m\u001b[38;5;241;43m.\u001b[39;49m\u001b[43mtarget_id\u001b[49m\u001b[43m,\u001b[49m\u001b[43m \u001b[49m\u001b[38;5;28;43mself\u001b[39;49m\u001b[38;5;241;43m.\u001b[39;49m\u001b[43mname\u001b[49m\u001b[43m)\u001b[49m\n\u001b[0;32m   1325\u001b[0m \u001b[38;5;28;01mfor\u001b[39;00m temp_arg \u001b[38;5;129;01min\u001b[39;00m temp_args:\n\u001b[0;32m   1326\u001b[0m     \u001b[38;5;28;01mif\u001b[39;00m \u001b[38;5;28mhasattr\u001b[39m(temp_arg, \u001b[38;5;124m\"\u001b[39m\u001b[38;5;124m_detach\u001b[39m\u001b[38;5;124m\"\u001b[39m):\n",
      "File \u001b[1;32m~\\AppData\\Local\\Programs\\Python\\Python310\\lib\\site-packages\\pyspark\\errors\\exceptions\\captured.py:169\u001b[0m, in \u001b[0;36mcapture_sql_exception.<locals>.deco\u001b[1;34m(*a, **kw)\u001b[0m\n\u001b[0;32m    167\u001b[0m \u001b[38;5;28;01mdef\u001b[39;00m \u001b[38;5;21mdeco\u001b[39m(\u001b[38;5;241m*\u001b[39ma: Any, \u001b[38;5;241m*\u001b[39m\u001b[38;5;241m*\u001b[39mkw: Any) \u001b[38;5;241m-\u001b[39m\u001b[38;5;241m>\u001b[39m Any:\n\u001b[0;32m    168\u001b[0m     \u001b[38;5;28;01mtry\u001b[39;00m:\n\u001b[1;32m--> 169\u001b[0m         \u001b[38;5;28;01mreturn\u001b[39;00m f(\u001b[38;5;241m*\u001b[39ma, \u001b[38;5;241m*\u001b[39m\u001b[38;5;241m*\u001b[39mkw)\n\u001b[0;32m    170\u001b[0m     \u001b[38;5;28;01mexcept\u001b[39;00m Py4JJavaError \u001b[38;5;28;01mas\u001b[39;00m e:\n\u001b[0;32m    171\u001b[0m         converted \u001b[38;5;241m=\u001b[39m convert_exception(e\u001b[38;5;241m.\u001b[39mjava_exception)\n",
      "File \u001b[1;32m~\\AppData\\Local\\Programs\\Python\\Python310\\lib\\site-packages\\py4j\\protocol.py:326\u001b[0m, in \u001b[0;36mget_return_value\u001b[1;34m(answer, gateway_client, target_id, name)\u001b[0m\n\u001b[0;32m    324\u001b[0m value \u001b[38;5;241m=\u001b[39m OUTPUT_CONVERTER[\u001b[38;5;28mtype\u001b[39m](answer[\u001b[38;5;241m2\u001b[39m:], gateway_client)\n\u001b[0;32m    325\u001b[0m \u001b[38;5;28;01mif\u001b[39;00m answer[\u001b[38;5;241m1\u001b[39m] \u001b[38;5;241m==\u001b[39m REFERENCE_TYPE:\n\u001b[1;32m--> 326\u001b[0m     \u001b[38;5;28;01mraise\u001b[39;00m Py4JJavaError(\n\u001b[0;32m    327\u001b[0m         \u001b[38;5;124m\"\u001b[39m\u001b[38;5;124mAn error occurred while calling \u001b[39m\u001b[38;5;132;01m{0}\u001b[39;00m\u001b[38;5;132;01m{1}\u001b[39;00m\u001b[38;5;132;01m{2}\u001b[39;00m\u001b[38;5;124m.\u001b[39m\u001b[38;5;130;01m\\n\u001b[39;00m\u001b[38;5;124m\"\u001b[39m\u001b[38;5;241m.\u001b[39m\n\u001b[0;32m    328\u001b[0m         \u001b[38;5;28mformat\u001b[39m(target_id, \u001b[38;5;124m\"\u001b[39m\u001b[38;5;124m.\u001b[39m\u001b[38;5;124m\"\u001b[39m, name), value)\n\u001b[0;32m    329\u001b[0m \u001b[38;5;28;01melse\u001b[39;00m:\n\u001b[0;32m    330\u001b[0m     \u001b[38;5;28;01mraise\u001b[39;00m Py4JError(\n\u001b[0;32m    331\u001b[0m         \u001b[38;5;124m\"\u001b[39m\u001b[38;5;124mAn error occurred while calling \u001b[39m\u001b[38;5;132;01m{0}\u001b[39;00m\u001b[38;5;132;01m{1}\u001b[39;00m\u001b[38;5;132;01m{2}\u001b[39;00m\u001b[38;5;124m. Trace:\u001b[39m\u001b[38;5;130;01m\\n\u001b[39;00m\u001b[38;5;132;01m{3}\u001b[39;00m\u001b[38;5;130;01m\\n\u001b[39;00m\u001b[38;5;124m\"\u001b[39m\u001b[38;5;241m.\u001b[39m\n\u001b[0;32m    332\u001b[0m         \u001b[38;5;28mformat\u001b[39m(target_id, \u001b[38;5;124m\"\u001b[39m\u001b[38;5;124m.\u001b[39m\u001b[38;5;124m\"\u001b[39m, name, value))\n",
      "\u001b[1;31mPy4JJavaError\u001b[0m: An error occurred while calling o93.csv.\n: java.lang.UnsatisfiedLinkError: 'boolean org.apache.hadoop.io.nativeio.NativeIO$Windows.access0(java.lang.String, int)'\r\n\tat org.apache.hadoop.io.nativeio.NativeIO$Windows.access0(Native Method)\r\n\tat org.apache.hadoop.io.nativeio.NativeIO$Windows.access(NativeIO.java:793)\r\n\tat org.apache.hadoop.fs.FileUtil.canRead(FileUtil.java:1249)\r\n\tat org.apache.hadoop.fs.FileUtil.list(FileUtil.java:1454)\r\n\tat org.apache.hadoop.fs.RawLocalFileSystem.listStatus(RawLocalFileSystem.java:601)\r\n\tat org.apache.hadoop.fs.FileSystem.listStatus(FileSystem.java:1972)\r\n\tat org.apache.hadoop.fs.FileSystem.listStatus(FileSystem.java:2014)\r\n\tat org.apache.hadoop.fs.ChecksumFileSystem.listStatus(ChecksumFileSystem.java:761)\r\n\tat org.apache.spark.util.HadoopFSUtils$.listLeafFiles(HadoopFSUtils.scala:225)\r\n\tat org.apache.spark.util.HadoopFSUtils$.$anonfun$parallelListLeafFilesInternal$1(HadoopFSUtils.scala:95)\r\n\tat scala.collection.TraversableLike.$anonfun$map$1(TraversableLike.scala:286)\r\n\tat scala.collection.mutable.ResizableArray.foreach(ResizableArray.scala:62)\r\n\tat scala.collection.mutable.ResizableArray.foreach$(ResizableArray.scala:55)\r\n\tat scala.collection.mutable.ArrayBuffer.foreach(ArrayBuffer.scala:49)\r\n\tat scala.collection.TraversableLike.map(TraversableLike.scala:286)\r\n\tat scala.collection.TraversableLike.map$(TraversableLike.scala:279)\r\n\tat scala.collection.AbstractTraversable.map(Traversable.scala:108)\r\n\tat org.apache.spark.util.HadoopFSUtils$.parallelListLeafFilesInternal(HadoopFSUtils.scala:85)\r\n\tat org.apache.spark.util.HadoopFSUtils$.parallelListLeafFiles(HadoopFSUtils.scala:69)\r\n\tat org.apache.spark.sql.execution.datasources.InMemoryFileIndex$.bulkListLeafFiles(InMemoryFileIndex.scala:162)\r\n\tat org.apache.spark.sql.execution.datasources.InMemoryFileIndex.listLeafFiles(InMemoryFileIndex.scala:133)\r\n\tat org.apache.spark.sql.execution.datasources.InMemoryFileIndex.refresh0(InMemoryFileIndex.scala:96)\r\n\tat org.apache.spark.sql.execution.datasources.InMemoryFileIndex.<init>(InMemoryFileIndex.scala:68)\r\n\tat org.apache.spark.sql.execution.datasources.DataSource.createInMemoryFileIndex(DataSource.scala:539)\r\n\tat org.apache.spark.sql.execution.datasources.DataSource.resolveRelation(DataSource.scala:405)\r\n\tat org.apache.spark.sql.DataFrameReader.loadV1Source(DataFrameReader.scala:229)\r\n\tat org.apache.spark.sql.DataFrameReader.$anonfun$load$2(DataFrameReader.scala:211)\r\n\tat scala.Option.getOrElse(Option.scala:189)\r\n\tat org.apache.spark.sql.DataFrameReader.load(DataFrameReader.scala:211)\r\n\tat org.apache.spark.sql.DataFrameReader.csv(DataFrameReader.scala:538)\r\n\tat java.base/jdk.internal.reflect.NativeMethodAccessorImpl.invoke0(Native Method)\r\n\tat java.base/jdk.internal.reflect.NativeMethodAccessorImpl.invoke(NativeMethodAccessorImpl.java:76)\r\n\tat java.base/jdk.internal.reflect.DelegatingMethodAccessorImpl.invoke(DelegatingMethodAccessorImpl.java:52)\r\n\tat java.base/java.lang.reflect.Method.invoke(Method.java:577)\r\n\tat py4j.reflection.MethodInvoker.invoke(MethodInvoker.java:244)\r\n\tat py4j.reflection.ReflectionEngine.invoke(ReflectionEngine.java:374)\r\n\tat py4j.Gateway.invoke(Gateway.java:282)\r\n\tat py4j.commands.AbstractCommand.invokeMethod(AbstractCommand.java:132)\r\n\tat py4j.commands.CallCommand.execute(CallCommand.java:79)\r\n\tat py4j.ClientServerConnection.waitForCommands(ClientServerConnection.java:182)\r\n\tat py4j.ClientServerConnection.run(ClientServerConnection.java:106)\r\n\tat java.base/java.lang.Thread.run(Thread.java:833)\r\n"
     ]
    }
   ],
   "source": [
    "df4 = spark.read.csv(path = 'D:/PySpark/csv files/', header = True)"
   ]
  },
  {
   "cell_type": "code",
   "execution_count": null,
   "id": "a5fa861e",
   "metadata": {},
   "outputs": [],
   "source": []
  }
 ],
 "metadata": {
  "kernelspec": {
   "display_name": "Python 3 (ipykernel)",
   "language": "python",
   "name": "python3"
  },
  "language_info": {
   "codemirror_mode": {
    "name": "ipython",
    "version": 3
   },
   "file_extension": ".py",
   "mimetype": "text/x-python",
   "name": "python",
   "nbconvert_exporter": "python",
   "pygments_lexer": "ipython3",
   "version": "3.10.6"
  }
 },
 "nbformat": 4,
 "nbformat_minor": 5
}
